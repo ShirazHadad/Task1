{
 "cells": [
  {
   "cell_type": "markdown",
   "id": "336549dc-8a05-4421-b9dc-4143e574cc90",
   "metadata": {},
   "source": [
    "# task1"
   ]
  },
  {
   "cell_type": "markdown",
   "id": "a77a3f95-f0af-490b-bd7c-cbe7cd293fc7",
   "metadata": {},
   "source": [
    "### Q1"
   ]
  },
  {
   "cell_type": "code",
   "execution_count": 71,
   "id": "6324a322-5297-42eb-852b-1250b70ae7e4",
   "metadata": {},
   "outputs": [],
   "source": [
    "def My_func(x1,x2,x3):\n",
    "    try:\n",
    "        counter = (x1+x2+x3)*(x2+x3)*x3\n",
    "        denominator = x1+x2+x3\n",
    "        if (isinstance(x1, int)) or (isinstance(x2, int)) or (isinstance(x3, int)):\n",
    "            print(\"Error: parameters should be a float\")\n",
    "        elif denominator == 0:\n",
    "            print(\"Not a number - denominator equals zero\")\n",
    "        else:\n",
    "            result = counter/denominator\n",
    "            return result\n",
    "    except:\n",
    "        if type(x1) is not float or type(x2) is not float or type(x3) is not float:\n",
    "            print(\"None\")"
   ]
  },
  {
   "cell_type": "code",
   "execution_count": 72,
   "id": "e66166bf-89c9-4f98-92ad-686866298320",
   "metadata": {},
   "outputs": [
    {
     "data": {
      "text/plain": [
       "70.68"
      ]
     },
     "execution_count": 72,
     "metadata": {},
     "output_type": "execute_result"
    }
   ],
   "source": [
    "My_func(2.0,5.2,6.2)"
   ]
  },
  {
   "cell_type": "code",
   "execution_count": 73,
   "id": "10b53fc0-0b05-462a-9349-253070566161",
   "metadata": {},
   "outputs": [
    {
     "name": "stdout",
     "output_type": "stream",
     "text": [
      "Not a number - denominator equals zero\n"
     ]
    }
   ],
   "source": [
    "My_func(-3.0,5.0,-2.0)"
   ]
  },
  {
   "cell_type": "code",
   "execution_count": 74,
   "id": "adf0ef2c-45dc-43cd-9b60-904d9e81f9dd",
   "metadata": {},
   "outputs": [
    {
     "name": "stdout",
     "output_type": "stream",
     "text": [
      "None\n"
     ]
    }
   ],
   "source": [
    "My_func(\"six\",5.0,2.0)"
   ]
  },
  {
   "cell_type": "code",
   "execution_count": 75,
   "id": "3ab8a532-7f3d-4c7b-a5a3-c86ecfd42712",
   "metadata": {},
   "outputs": [
    {
     "name": "stdout",
     "output_type": "stream",
     "text": [
      "None\n"
     ]
    }
   ],
   "source": [
    "My_func(\"one\",\"two\",\"three\")"
   ]
  },
  {
   "cell_type": "code",
   "execution_count": 76,
   "id": "f7918717-f5cc-49d7-95e2-2d9ba4d9e0b3",
   "metadata": {},
   "outputs": [
    {
     "name": "stdout",
     "output_type": "stream",
     "text": [
      "Error: parameters should be a float\n"
     ]
    }
   ],
   "source": [
    "My_func(1.8,6,3.0)"
   ]
  },
  {
   "cell_type": "code",
   "execution_count": 77,
   "id": "a2aae98f-8fc1-4525-9bd8-110e8ca26d17",
   "metadata": {},
   "outputs": [
    {
     "name": "stdout",
     "output_type": "stream",
     "text": [
      "Error: parameters should be a float\n"
     ]
    }
   ],
   "source": [
    "My_func(18,6,500)"
   ]
  },
  {
   "cell_type": "markdown",
   "id": "0f46ba13-4191-47b8-802a-b10aa0717321",
   "metadata": {},
   "source": [
    "### Q2"
   ]
  },
  {
   "cell_type": "code",
   "execution_count": 108,
   "id": "d0027b1e-6210-4ea7-b1b7-23bc5129604c",
   "metadata": {},
   "outputs": [
    {
     "name": "stdout",
     "output_type": "stream",
     "text": [
      "The number of times the first word in the text appears is: 6\n"
     ]
    }
   ],
   "source": [
    "def revword(word:str):\n",
    "    word = word[::-1]\n",
    "    word = word.lower()\n",
    "    return word\n",
    "\n",
    "def countword():\n",
    "    file = open('text.txt', 'r')\n",
    "    lst = list()\n",
    "    count = 1\n",
    "    for line in file:\n",
    "        lines = line.rstrip().split()\n",
    "        if len(lst) == 0:\n",
    "            word = lines[0]\n",
    "            lst.append(lines)\n",
    "            #print(lst)\n",
    "        else:\n",
    "            for singleword in lines:\n",
    "                reverse = revword(singleword)\n",
    "                #print(reverse)\n",
    "                if reverse == word:\n",
    "                    count = count+1\n",
    "                    \n",
    "    print(\"The number of times the first word in the text appears is:\", count)\n",
    "    \n",
    "countword()"
   ]
  },
  {
   "cell_type": "code",
   "execution_count": null,
   "id": "a18fea24-5e62-49e8-8e1a-1019e9c84a13",
   "metadata": {},
   "outputs": [],
   "source": []
  }
 ],
 "metadata": {
  "kernelspec": {
   "display_name": "Python 3 (ipykernel)",
   "language": "python",
   "name": "python3"
  },
  "language_info": {
   "codemirror_mode": {
    "name": "ipython",
    "version": 3
   },
   "file_extension": ".py",
   "mimetype": "text/x-python",
   "name": "python",
   "nbconvert_exporter": "python",
   "pygments_lexer": "ipython3",
   "version": "3.9.13"
  }
 },
 "nbformat": 4,
 "nbformat_minor": 5
}
